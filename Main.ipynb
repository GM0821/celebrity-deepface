{
 "cells": [
  {
   "cell_type": "code",
   "execution_count": 5,
   "id": "7fe3ff70",
   "metadata": {},
   "outputs": [],
   "source": [
    "import os\n",
    "import shutil\n",
    "\n",
    "data_dir = \"Celebrity Faces Dataset\"\n",
    "\n",
    "for directory in os.listdir(data_dir):\n",
    "    first_file = os.listdir(os.path.join(data_dir, directory))[1]\n",
    "    shutil.copyfile(os.path.join(data_dir, directory, first_file), os.path.join(\"Samples\", f\"{directory}.jpg\"))"
   ]
  },
  {
   "cell_type": "code",
   "execution_count": 14,
   "id": "b5ec7349",
   "metadata": {},
   "outputs": [
    {
     "name": "stdout",
     "output_type": "stream",
     "text": [
      "This person looks exactly like Brad Pitt\n"
     ]
    }
   ],
   "source": [
    "from deepface import DeepFace\n",
    "    \n",
    "smallest_distance = None\n",
    "\n",
    "for file in os.listdir(\"Samples\"):\n",
    "    if file.endswith(\".jpg\"):\n",
    "        result = DeepFace.verify(\"look_a_like.jpg\", f\"Samples/{file}\")\n",
    "        if result['verified']:\n",
    "            print(\"This person looks exactly like\", file.split(\".\")[0])\n",
    "            break\n",
    "        if smallest_distance is None:\n",
    "            smallest_distance = (file.split(\".\")[0], result['distance'])\n",
    "        else:\n",
    "            smallest_distance = (file.split(\".\")[0], result['distance']) if result['distance'] < smallest_distance[1] else smallest_distance\n",
    "else:\n",
    "    print(f\"No exact match found! Closest match is {smallest_distance[0]}\")"
   ]
  },
  {
   "cell_type": "code",
   "execution_count": 9,
   "id": "9d7bb406",
   "metadata": {},
   "outputs": [
    {
     "data": {
      "text/plain": [
       "{'verified': True,\n",
       " 'distance': 0.14887701114855745,\n",
       " 'threshold': 0.4,\n",
       " 'model': 'VGG-Face',\n",
       " 'detector_backend': 'opencv',\n",
       " 'similarity_metric': 'cosine',\n",
       " 'facial_areas': {'img1': {'x': 1964, 'y': 1913, 'w': 1587, 'h': 1587},\n",
       "  'img2': {'x': 74, 'y': 64, 'w': 361, 'h': 361}},\n",
       " 'time': 720.71}"
      ]
     },
     "execution_count": 9,
     "metadata": {},
     "output_type": "execute_result"
    }
   ],
   "source": [
    "result"
   ]
  }
 ],
 "metadata": {
  "kernelspec": {
   "display_name": "Python 3 (ipykernel)",
   "language": "python",
   "name": "python3"
  },
  "language_info": {
   "codemirror_mode": {
    "name": "ipython",
    "version": 3
   },
   "file_extension": ".py",
   "mimetype": "text/x-python",
   "name": "python",
   "nbconvert_exporter": "python",
   "pygments_lexer": "ipython3",
   "version": "3.10.9"
  }
 },
 "nbformat": 4,
 "nbformat_minor": 5
}
